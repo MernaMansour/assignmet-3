{
 "cells": [
  {
   "cell_type": "markdown",
   "metadata": {},
   "source": [
    "# Merna Mansour"
   ]
  },
  {
   "cell_type": "markdown",
   "metadata": {},
   "source": [
    "# Assignment 3"
   ]
  },
  {
   "cell_type": "markdown",
   "metadata": {},
   "source": [
    "### Write a function to count the number 4 in a given list."
   ]
  },
  {
   "cell_type": "code",
   "execution_count": 8,
   "metadata": {},
   "outputs": [
    {
     "name": "stdout",
     "output_type": "stream",
     "text": [
      "please enter the length of the list8\n",
      " please enter number 1 4\n",
      " please enter number 2 4\n",
      " please enter number 3 4\n",
      " please enter number 4 4\n",
      " please enter number 5 4\n",
      " please enter number 6 5\n",
      " please enter number 7 6\n",
      " please enter number 8 8\n",
      "5\n"
     ]
    }
   ],
   "source": [
    "def counter():\n",
    "    c=0\n",
    "    x=int(input('please enter the length of the list'))\n",
    "    z=[]\n",
    "    for i in range(0,x,1):\n",
    "        nums=int(input(' please enter number {} '.format(i+1)))\n",
    "        z.append(nums)    \n",
    "    for i in z:  \n",
    "        if i==4:\n",
    "            c+=1\n",
    "    print(c)\n",
    "\n",
    "counter()\n"
   ]
  },
  {
   "cell_type": "markdown",
   "metadata": {},
   "source": [
    "### write a  function to check whether a number is divisible by another number."
   ]
  },
  {
   "cell_type": "code",
   "execution_count": 10,
   "metadata": {},
   "outputs": [
    {
     "name": "stdout",
     "output_type": "stream",
     "text": [
      "not divisible\n"
     ]
    }
   ],
   "source": [
    "def divisible(x,y):\n",
    "    if x%y==0:\n",
    "        print('divisible')\n",
    "    else:\n",
    "        print('not divisible')\n",
    "divisible(15,2)"
   ]
  },
  {
   "cell_type": "markdown",
   "metadata": {},
   "source": [
    "### write a function to find the maximum and minimum numbers from a sequence of numbers."
   ]
  },
  {
   "cell_type": "code",
   "execution_count": 14,
   "metadata": {},
   "outputs": [
    {
     "name": "stdout",
     "output_type": "stream",
     "text": [
      "please enter the length of the list5\n",
      " please enter number 1 0\n",
      " please enter number 2 1\n",
      " please enter number 3 5\n",
      " please enter number 4 10\n",
      " please enter number 5 -3\n",
      "the heighst number is 10 and the lowest number is -3\n"
     ]
    }
   ],
   "source": [
    "def nums():\n",
    "    l=int(input('please enter the length of the list'))\n",
    "    f=[]\n",
    "    maxim=0\n",
    "    minim=0\n",
    "    for i in range(0,l,1):\n",
    "        m=int(input(' please enter number {} '.format(i+1)))\n",
    "        f.append(m) \n",
    "    for i in f:\n",
    "        if i>maxim:\n",
    "            maxim=i\n",
    "        if i<minim:\n",
    "            minim=i\n",
    "    print('the heighst number is {} and the lowest number is {}'.format(maxim,minim))\n",
    "nums()"
   ]
  },
  {
   "cell_type": "markdown",
   "metadata": {},
   "source": [
    "### Write a Python function that takes two lists and returns True if they have at least one common member."
   ]
  },
  {
   "cell_type": "code",
   "execution_count": null,
   "metadata": {},
   "outputs": [],
   "source": [
    "def two_lists():\n",
    "    r=False\n",
    "    l=int(input('please enter the length of the first list'))\n",
    "    f=[]\n",
    "    for i in range(0,l,1):\n",
    "        m=int(input(' please enter number {} '.format(i+1)))\n",
    "        f.append(m)\n",
    "    s=int(input('please enter the length of the second list'))\n",
    "    k=[]\n",
    "    for i in range(0,s,1):\n",
    "        d=int(input(' please enter number {} '.format(i+1)))\n",
    "        k.append(d)\n",
    "    for i in f:\n",
    "        for j in k:\n",
    "            if i==j:\n",
    "                r=True\n",
    "                return r\n",
    "         \n",
    "            \n",
    "two_lists()\n",
    "\n"
   ]
  },
  {
   "cell_type": "code",
   "execution_count": 3,
   "metadata": {},
   "outputs": [
    {
     "data": {
      "text/plain": [
       "True"
      ]
     },
     "execution_count": 3,
     "metadata": {},
     "output_type": "execute_result"
    }
   ],
   "source": [
    "#another solution\n",
    "def two_list(list1,list2):\n",
    "    r=False\n",
    "    for i in list1:\n",
    "        for j in list2:\n",
    "            if i==j:\n",
    "                r=True\n",
    "                return r\n",
    "two_list([1,2,3,4],[4,5,6,7])"
   ]
  },
  {
   "cell_type": "markdown",
   "metadata": {},
   "source": [
    "### Write a Python function to calculate the factorial of a number (a non-negative integer). The function accepts the number from the user"
   ]
  },
  {
   "cell_type": "code",
   "execution_count": 8,
   "metadata": {},
   "outputs": [
    {
     "name": "stdout",
     "output_type": "stream",
     "text": [
      "please enter the number5\n",
      "120\n"
     ]
    }
   ],
   "source": [
    "def fact():\n",
    "    x=int(input('please enter the number'))\n",
    "    F=1\n",
    "    for i in range(1,x+1,1):\n",
    "        F=F*i\n",
    "    print(F)\n",
    "fact()"
   ]
  },
  {
   "cell_type": "markdown",
   "metadata": {},
   "source": [
    "### Write a Python function to check whether a number is in a given range.\n",
    "\n",
    "### The range is from 3 to 11\n"
   ]
  },
  {
   "cell_type": "code",
   "execution_count": 10,
   "metadata": {},
   "outputs": [
    {
     "name": "stdout",
     "output_type": "stream",
     "text": [
      "enter the min range3\n",
      "enter the max range11\n",
      "4\n",
      "in range\n"
     ]
    }
   ],
   "source": [
    "minim=int(input('enter the min range'))\n",
    "maxim=int(input('enter the max range'))\n",
    "num=int(input())\n",
    "def rangee(x,y,z):\n",
    "    if num>=x and num<=y:\n",
    "        print('in range')\n",
    "    else:\n",
    "        print('not in range')\n",
    "rangee(minim,maxim,num)"
   ]
  },
  {
   "cell_type": "markdown",
   "metadata": {},
   "source": [
    "### Write a  program to create the multiplication table (from 1 to 10) of a number."
   ]
  },
  {
   "cell_type": "code",
   "execution_count": null,
   "metadata": {},
   "outputs": [],
   "source": [
    "def mult ():\n",
    "    for i in range(0,11,1):\n",
    "        print('{} *{}={}'.format(i,x,i*x))\n",
    "\n",
    "mult()"
   ]
  },
  {
   "cell_type": "markdown",
   "metadata": {},
   "source": [
    "#### LESSER OF TWO EVENS: Write a function that returns the lesser of two given numbers *if* both numbers are even, but returns the greater if one or both numbers are odd\n",
    "    lesser_of_two_evens(2,4) --> 2\n",
    "    lesser_of_two_evens(2,5) --> 5"
   ]
  },
  {
   "cell_type": "code",
   "execution_count": 4,
   "metadata": {},
   "outputs": [
    {
     "name": "stdout",
     "output_type": "stream",
     "text": [
      "lesser_of_two_evens(2,5) --> 5\n"
     ]
    }
   ],
   "source": [
    "def nums(x,y):\n",
    "    if x%2==0 and y%2==0:\n",
    "        if x<y:\n",
    "            print('lesser_of_two_evens ({},{})-->{}'.format(x,y,x))\n",
    "        else:\n",
    "            print('lesser_of_two_evens ({},{})-->{}'.format(x,y,y))\n",
    "    elif x%2==0 and y%2!=0:\n",
    "        if x<y:\n",
    "            print('lesser_of_two_evens({},{}) --> {}'.format(x,y,y))\n",
    "        else:\n",
    "            print('lesser_of_two_evens({},{}) --> {}'.format(x,y,x))\n",
    "    elif x%2!=0 and y%2==0:\n",
    "         if x<y:\n",
    "            print('lesser_of_two_evens({},{}) --> {}'.format(x,y,y))\n",
    "    else:\n",
    "            print('lesser_of_two_evens({},{}) --> {}'.format(x,y,x))\n",
    "    \n",
    "nums(2,5)"
   ]
  },
  {
   "cell_type": "markdown",
   "metadata": {},
   "source": [
    "#### ANIMAL CRACKERS: Write a function takes a two-word string and returns True if both words begin with same letter\n",
    "    animal_crackers('Levelheaded Llama') --> True\n",
    "    animal_crackers('Crazy Kangaroo') --> False"
   ]
  },
  {
   "cell_type": "code",
   "execution_count": 4,
   "metadata": {},
   "outputs": [
    {
     "data": {
      "text/plain": [
       "True"
      ]
     },
     "execution_count": 4,
     "metadata": {},
     "output_type": "execute_result"
    }
   ],
   "source": [
    "def animal_crackers(string):\n",
    "    x1=string.split(' ')[0]\n",
    "    x2=string.split(' ')[1]\n",
    "    if x1[0] == x2[0]:\n",
    "        return True\n",
    "    else:\n",
    "        return False\n",
    "                \n",
    "\n",
    "animal_crackers('Levelheaded Llama')\n"
   ]
  },
  {
   "cell_type": "markdown",
   "metadata": {},
   "source": [
    "#### MAKES TWENTY: Given two integers, return True if the sum of the integers is 20 *or* if one of the integers is 20. If not, return False\n",
    "\n",
    "    makes_twenty(20,10) --> True\n",
    "    makes_twenty(12,8) --> True\n",
    "    makes_twenty(2,3) --> False"
   ]
  },
  {
   "cell_type": "code",
   "execution_count": 8,
   "metadata": {},
   "outputs": [
    {
     "data": {
      "text/plain": [
       "True"
      ]
     },
     "execution_count": 8,
     "metadata": {},
     "output_type": "execute_result"
    }
   ],
   "source": [
    "def Makes_twenty(l1,l2):\n",
    "    if l1+l2==20 or l1==20 or l2==20:\n",
    "        return True\n",
    "    else:\n",
    "        return False\n",
    "Makes_twenty(2,18)"
   ]
  },
  {
   "cell_type": "markdown",
   "metadata": {},
   "source": [
    "#### ALMOST THERE: Given an integer n, return True if n is within 10 of either 100 or 200\n",
    "\n",
    "    almost_there(90) --> True\n",
    "    almost_there(104) --> True\n",
    "    almost_there(150) --> False\n",
    "    almost_there(209) --> True\n",
    "    \n",
    "NOTE: `abs(num)` returns the absolute value of a number"
   ]
  },
  {
   "cell_type": "code",
   "execution_count": 11,
   "metadata": {},
   "outputs": [
    {
     "data": {
      "text/plain": [
       "False"
      ]
     },
     "execution_count": 11,
     "metadata": {},
     "output_type": "execute_result"
    }
   ],
   "source": [
    "def ALMOSTTHERE(n):\n",
    "    if n in range(0,200):\n",
    "        return True\n",
    "    else:\n",
    "        return False\n",
    "ALMOSTTHERE(201)"
   ]
  },
  {
   "cell_type": "markdown",
   "metadata": {},
   "source": [
    "#### BLACKJACK: Given three integers between 1 and 11, if their sum is less than or equal to 21, return their sum. If their sum exceeds 21 *and* there's an eleven, reduce the total sum by 10. Finally, if the sum  exceeds 21, return 'BUST'\n",
    "    blackjack(5,6,7) --> 18\n",
    "    blackjack(9,9,9) --> 'BUST'\n",
    "    blackjack(9,9,11) --> 19"
   ]
  },
  {
   "cell_type": "code",
   "execution_count": 16,
   "metadata": {},
   "outputs": [
    {
     "data": {
      "text/plain": [
       "12"
      ]
     },
     "execution_count": 16,
     "metadata": {},
     "output_type": "execute_result"
    }
   ],
   "source": [
    "def BLACKJACK(a,b,c):\n",
    "    for i in range(0,12):\n",
    "        if (a+b+c)<=21 :\n",
    "            return a+b+c\n",
    "        elif (a+b+c)>21 and 11 in (a,b,c) :\n",
    "            return a+b+c-10\n",
    "        elif (a+b+c)>21:\n",
    "            return 'Bust'\n",
    "BLACKJACK(4,7,11)"
   ]
  }
 ],
 "metadata": {
  "kernelspec": {
   "display_name": "Python 3 (ipykernel)",
   "language": "python",
   "name": "python3"
  },
  "language_info": {
   "codemirror_mode": {
    "name": "ipython",
    "version": 3
   },
   "file_extension": ".py",
   "mimetype": "text/x-python",
   "name": "python",
   "nbconvert_exporter": "python",
   "pygments_lexer": "ipython3",
   "version": "3.9.12"
  }
 },
 "nbformat": 4,
 "nbformat_minor": 2
}
